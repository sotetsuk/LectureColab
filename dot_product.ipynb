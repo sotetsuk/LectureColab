{
  "nbformat": 4,
  "nbformat_minor": 0,
  "metadata": {
    "colab": {
      "provenance": [],
      "authorship_tag": "ABX9TyMlfE3YA1Q15+g2lNpnopYV",
      "include_colab_link": true
    },
    "kernelspec": {
      "name": "python3",
      "display_name": "Python 3"
    },
    "language_info": {
      "name": "python"
    }
  },
  "cells": [
    {
      "cell_type": "markdown",
      "metadata": {
        "id": "view-in-github",
        "colab_type": "text"
      },
      "source": [
        "<a href=\"https://colab.research.google.com/github/sotetsuk/lecture_colab/blob/main/dot_product.ipynb\" target=\"_parent\"><img src=\"https://colab.research.google.com/assets/colab-badge.svg\" alt=\"Open In Colab\"/></a>"
      ]
    },
    {
      "cell_type": "code",
      "execution_count": null,
      "metadata": {
        "colab": {
          "base_uri": "https://localhost:8080/"
        },
        "id": "XZiZl5e6Ks39",
        "outputId": "a97a8af8-f82c-4b1d-c4a1-397bae5ae678"
      },
      "outputs": [
        {
          "output_type": "stream",
          "name": "stdout",
          "text": [
            "ベクトル a: [1 2 3]\n",
            "ベクトル b: [4 5 6]\n",
            "内積: 32\n"
          ]
        }
      ],
      "source": [
        "import numpy as np\n",
        "\n",
        "a = np.array([1, 2, 3])\n",
        "b = np.array([4, 5, 6])\n",
        "\n",
        "dot_product = np.dot(a, b)  # 内積を計算\n",
        "\n",
        "print(\"ベクトル a:\", a)\n",
        "print(\"ベクトル b:\", b)\n",
        "print(\"内積:\", dot_product)"
      ]
    }
  ]
}