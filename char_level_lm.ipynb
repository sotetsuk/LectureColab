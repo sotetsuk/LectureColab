{
  "nbformat": 4,
  "nbformat_minor": 0,
  "metadata": {
    "colab": {
      "provenance": [],
      "gpuType": "T4",
      "authorship_tag": "ABX9TyOWlbN3R/SdORcAjLPcUvTX",
      "include_colab_link": true
    },
    "kernelspec": {
      "name": "python3",
      "display_name": "Python 3"
    },
    "language_info": {
      "name": "python"
    },
    "accelerator": "GPU"
  },
  "cells": [
    {
      "cell_type": "markdown",
      "metadata": {
        "id": "view-in-github",
        "colab_type": "text"
      },
      "source": [
        "<a href=\"https://colab.research.google.com/github/sotetsuk/LectureColab/blob/main/char_level_lm.ipynb\" target=\"_parent\"><img src=\"https://colab.research.google.com/assets/colab-badge.svg\" alt=\"Open In Colab\"/></a>"
      ]
    },
    {
      "cell_type": "code",
      "execution_count": null,
      "metadata": {
        "id": "tmBbJ8xboF0U"
      },
      "outputs": [],
      "source": [
        "import os\n",
        "import time\n",
        "os.environ[\"KERAS_BACKEND\"] = \"jax\"\n",
        "\n",
        "import numpy as np\n",
        "from keras import layers, models, optimizers, losses, Input, Model\n",
        "from keras.utils import PyDataset"
      ]
    },
    {
      "cell_type": "code",
      "source": [
        "# Load and prepare text data\n",
        "def load_text():\n",
        "    # Download Shakespeare dataset\n",
        "    import urllib.request\n",
        "    url = \"https://raw.githubusercontent.com/karpathy/char-rnn/master/data/tinyshakespeare/input.txt\"\n",
        "\n",
        "    print(\"Downloading Shakespeare dataset...\")\n",
        "    response = urllib.request.urlopen(url)\n",
        "    text = response.read().decode('utf-8')\n",
        "\n",
        "    # Use moderate amount of data for faster training\n",
        "    text = text[:100000]  # First 100k characters\n",
        "\n",
        "    return text.strip()\n",
        "\n",
        "\n",
        "class TextDataset(PyDataset):\n",
        "    def __init__(self, text, max_seq_length, batch_size, step=1, **kwargs):\n",
        "        super().__init__(**kwargs)\n",
        "        self.text = text\n",
        "        self.max_seq_length = max_seq_length\n",
        "        self.batch_size = batch_size\n",
        "\n",
        "        # Create character mappings\n",
        "        self.chars = sorted(list(set(text)))\n",
        "        self.char_to_idx = {ch: i for i, ch in enumerate(self.chars)}\n",
        "        self.idx_to_char = {i: ch for ch, i in self.char_to_idx.items()}\n",
        "        self.num_chars = len(self.chars)\n",
        "\n",
        "        # Create indices for all possible sequences\n",
        "        self.indices = list(range(0, len(text) - max_seq_length, step))\n",
        "\n",
        "    def __len__(self):\n",
        "        return len(self.indices) // self.batch_size\n",
        "\n",
        "    def __getitem__(self, idx):\n",
        "        batch_indices = self.indices[idx * self.batch_size:(idx + 1) * self.batch_size]\n",
        "\n",
        "        X = np.zeros((self.batch_size, self.max_seq_length), dtype=np.int32)\n",
        "        y = np.zeros((self.batch_size, self.max_seq_length), dtype=np.int32)\n",
        "\n",
        "        for i, start_idx in enumerate(batch_indices):\n",
        "            seq = self.text[start_idx:start_idx + self.max_seq_length]\n",
        "            next_seq = self.text[start_idx + 1:start_idx + self.max_seq_length + 1]\n",
        "\n",
        "            for t, char in enumerate(seq):\n",
        "                X[i, t] = self.char_to_idx[char]\n",
        "            for t, char in enumerate(next_seq):\n",
        "                y[i, t] = self.char_to_idx[char]\n",
        "\n",
        "        return X, y\n",
        "\n",
        "    def on_epoch_end(self):\n",
        "        np.random.shuffle(self.indices)\n",
        "\n",
        "\n",
        "def generate_text(model, char_to_idx, idx_to_char, max_seq_length,\n",
        "                  num_chars, length=100):\n",
        "    \"\"\"Generate text using the trained model with greedy decoding.\"\"\"\n",
        "    generated = \"the \"\n",
        "    print(generated, end=\"\", flush=True)\n",
        "\n",
        "    for _ in range(length):\n",
        "        # Prepare input - use variable length up to max_seq_length\n",
        "        context = generated[-max_seq_length:]\n",
        "        x_pred = np.zeros((1, max_seq_length), dtype=np.int32)\n",
        "        for t, char in enumerate(context):\n",
        "            x_pred[0, t] = char_to_idx[char]\n",
        "\n",
        "        # Predict next character\n",
        "        preds = model.predict(x_pred, verbose=0)[0]  # Shape: (max_seq_length, num_chars)\n",
        "        # Use the prediction at the position after the context\n",
        "        next_idx = np.argmax(preds[len(context)-1])  # Greedy decoding\n",
        "        next_char = idx_to_char[next_idx]\n",
        "\n",
        "        generated += next_char\n",
        "        print(next_char, end=\"\", flush=True)\n",
        "        time.sleep(0.1)\n",
        "\n",
        "    return generated"
      ],
      "metadata": {
        "id": "Fk_cbqKYoVLm"
      },
      "execution_count": null,
      "outputs": []
    },
    {
      "cell_type": "markdown",
      "source": [
        "# Hyperparameters"
      ],
      "metadata": {
        "id": "uX3YdRUYs29X"
      }
    },
    {
      "cell_type": "code",
      "source": [
        "max_seq_length = 50\n",
        "batch_size = 256\n",
        "epochs = 5"
      ],
      "metadata": {
        "id": "4-y1UEGApL2p"
      },
      "execution_count": null,
      "outputs": []
    },
    {
      "cell_type": "markdown",
      "source": [
        "## Loading and preparing data"
      ],
      "metadata": {
        "id": "2UEFUUGFpSGI"
      }
    },
    {
      "cell_type": "code",
      "source": [
        "text = load_text()\n",
        "dataset = TextDataset(text, max_seq_length, batch_size)\n",
        "\n",
        "print(f\"Text length: {len(text)}\")\n",
        "print(f\"Number of unique characters: {dataset.num_chars}\")\n",
        "print(f\"Number of batches: {len(dataset)}\")"
      ],
      "metadata": {
        "colab": {
          "base_uri": "https://localhost:8080/"
        },
        "id": "yhZS739ZpF1i",
        "outputId": "32b8cabe-0a08-4893-e6b4-0f1e60060431"
      },
      "execution_count": null,
      "outputs": [
        {
          "output_type": "stream",
          "name": "stdout",
          "text": [
            "Downloading Shakespeare dataset...\n",
            "Text length: 100000\n",
            "Number of unique characters: 61\n",
            "Number of batches: 390\n"
          ]
        }
      ]
    },
    {
      "cell_type": "code",
      "source": [
        "batch = dataset[0]\n",
        "X, y = batch\n",
        "print(f\"X shape: {X.shape}\")\n",
        "print(f\"y shape: {y.shape}\")\n",
        "print(X[0])\n",
        "print(y[0])"
      ],
      "metadata": {
        "colab": {
          "base_uri": "https://localhost:8080/"
        },
        "id": "mDcpmMx-qDIa",
        "outputId": "c6faf962-60fc-4469-d3ac-300ec7ddc20a"
      },
      "execution_count": null,
      "outputs": [
        {
          "output_type": "stream",
          "name": "stdout",
          "text": [
            "X shape: (256, 50)\n",
            "y shape: (256, 50)\n",
            "[16 43 52 53 54  1 13 43 54 43 60 39 48  8  0 12 39 40 49 52 39  1 57 39\n",
            "  1 50 52 49 37 39 39 38  1 35 48 59  1 40 55 52 54 42 39 52  5  1 42 39\n",
            " 35 52]\n",
            "[43 52 53 54  1 13 43 54 43 60 39 48  8  0 12 39 40 49 52 39  1 57 39  1\n",
            " 50 52 49 37 39 39 38  1 35 48 59  1 40 55 52 54 42 39 52  5  1 42 39 35\n",
            " 52  1]\n"
          ]
        }
      ]
    },
    {
      "cell_type": "markdown",
      "source": [
        "## Build model with Functional API"
      ],
      "metadata": {
        "id": "rXqhVg8XpXqZ"
      }
    },
    {
      "cell_type": "code",
      "source": [
        "inputs = Input(shape=(None,), dtype=\"int32\")\n",
        "x = layers.Embedding(dataset.num_chars, 16)(inputs)\n",
        "x = layers.GRU(256, return_sequences=True)(x)\n",
        "outputs = layers.Dense(dataset.num_chars, activation=\"softmax\")(x)\n",
        "model = Model(inputs=inputs, outputs=outputs)\n",
        "\n",
        "model.compile(\n",
        "    optimizer=optimizers.Adam(learning_rate=0.002),\n",
        "    loss=losses.sparse_categorical_crossentropy,\n",
        "    metrics=['accuracy']\n",
        ")\n",
        "\n",
        "model.summary()"
      ],
      "metadata": {
        "colab": {
          "base_uri": "https://localhost:8080/",
          "height": 267
        },
        "id": "oKhW8WF0pV9z",
        "outputId": "eccf8873-997b-40b8-b003-10a5707c52c7"
      },
      "execution_count": null,
      "outputs": [
        {
          "output_type": "display_data",
          "data": {
            "text/plain": [
              "\u001b[1mModel: \"functional\"\u001b[0m\n"
            ],
            "text/html": [
              "<pre style=\"white-space:pre;overflow-x:auto;line-height:normal;font-family:Menlo,'DejaVu Sans Mono',consolas,'Courier New',monospace\"><span style=\"font-weight: bold\">Model: \"functional\"</span>\n",
              "</pre>\n"
            ]
          },
          "metadata": {}
        },
        {
          "output_type": "display_data",
          "data": {
            "text/plain": [
              "┏━━━━━━━━━━━━━━━━━━━━━━━━━━━━━━━━━┳━━━━━━━━━━━━━━━━━━━━━━━━┳━━━━━━━━━━━━━━━┓\n",
              "┃\u001b[1m \u001b[0m\u001b[1mLayer (type)                   \u001b[0m\u001b[1m \u001b[0m┃\u001b[1m \u001b[0m\u001b[1mOutput Shape          \u001b[0m\u001b[1m \u001b[0m┃\u001b[1m \u001b[0m\u001b[1m      Param #\u001b[0m\u001b[1m \u001b[0m┃\n",
              "┡━━━━━━━━━━━━━━━━━━━━━━━━━━━━━━━━━╇━━━━━━━━━━━━━━━━━━━━━━━━╇━━━━━━━━━━━━━━━┩\n",
              "│ input_layer (\u001b[38;5;33mInputLayer\u001b[0m)        │ (\u001b[38;5;45mNone\u001b[0m, \u001b[38;5;45mNone\u001b[0m)           │             \u001b[38;5;34m0\u001b[0m │\n",
              "├─────────────────────────────────┼────────────────────────┼───────────────┤\n",
              "│ embedding (\u001b[38;5;33mEmbedding\u001b[0m)           │ (\u001b[38;5;45mNone\u001b[0m, \u001b[38;5;45mNone\u001b[0m, \u001b[38;5;34m16\u001b[0m)       │           \u001b[38;5;34m976\u001b[0m │\n",
              "├─────────────────────────────────┼────────────────────────┼───────────────┤\n",
              "│ gru (\u001b[38;5;33mGRU\u001b[0m)                       │ (\u001b[38;5;45mNone\u001b[0m, \u001b[38;5;45mNone\u001b[0m, \u001b[38;5;34m256\u001b[0m)      │       \u001b[38;5;34m210,432\u001b[0m │\n",
              "├─────────────────────────────────┼────────────────────────┼───────────────┤\n",
              "│ dense (\u001b[38;5;33mDense\u001b[0m)                   │ (\u001b[38;5;45mNone\u001b[0m, \u001b[38;5;45mNone\u001b[0m, \u001b[38;5;34m61\u001b[0m)       │        \u001b[38;5;34m15,677\u001b[0m │\n",
              "└─────────────────────────────────┴────────────────────────┴───────────────┘\n"
            ],
            "text/html": [
              "<pre style=\"white-space:pre;overflow-x:auto;line-height:normal;font-family:Menlo,'DejaVu Sans Mono',consolas,'Courier New',monospace\">┏━━━━━━━━━━━━━━━━━━━━━━━━━━━━━━━━━┳━━━━━━━━━━━━━━━━━━━━━━━━┳━━━━━━━━━━━━━━━┓\n",
              "┃<span style=\"font-weight: bold\"> Layer (type)                    </span>┃<span style=\"font-weight: bold\"> Output Shape           </span>┃<span style=\"font-weight: bold\">       Param # </span>┃\n",
              "┡━━━━━━━━━━━━━━━━━━━━━━━━━━━━━━━━━╇━━━━━━━━━━━━━━━━━━━━━━━━╇━━━━━━━━━━━━━━━┩\n",
              "│ input_layer (<span style=\"color: #0087ff; text-decoration-color: #0087ff\">InputLayer</span>)        │ (<span style=\"color: #00d7ff; text-decoration-color: #00d7ff\">None</span>, <span style=\"color: #00d7ff; text-decoration-color: #00d7ff\">None</span>)           │             <span style=\"color: #00af00; text-decoration-color: #00af00\">0</span> │\n",
              "├─────────────────────────────────┼────────────────────────┼───────────────┤\n",
              "│ embedding (<span style=\"color: #0087ff; text-decoration-color: #0087ff\">Embedding</span>)           │ (<span style=\"color: #00d7ff; text-decoration-color: #00d7ff\">None</span>, <span style=\"color: #00d7ff; text-decoration-color: #00d7ff\">None</span>, <span style=\"color: #00af00; text-decoration-color: #00af00\">16</span>)       │           <span style=\"color: #00af00; text-decoration-color: #00af00\">976</span> │\n",
              "├─────────────────────────────────┼────────────────────────┼───────────────┤\n",
              "│ gru (<span style=\"color: #0087ff; text-decoration-color: #0087ff\">GRU</span>)                       │ (<span style=\"color: #00d7ff; text-decoration-color: #00d7ff\">None</span>, <span style=\"color: #00d7ff; text-decoration-color: #00d7ff\">None</span>, <span style=\"color: #00af00; text-decoration-color: #00af00\">256</span>)      │       <span style=\"color: #00af00; text-decoration-color: #00af00\">210,432</span> │\n",
              "├─────────────────────────────────┼────────────────────────┼───────────────┤\n",
              "│ dense (<span style=\"color: #0087ff; text-decoration-color: #0087ff\">Dense</span>)                   │ (<span style=\"color: #00d7ff; text-decoration-color: #00d7ff\">None</span>, <span style=\"color: #00d7ff; text-decoration-color: #00d7ff\">None</span>, <span style=\"color: #00af00; text-decoration-color: #00af00\">61</span>)       │        <span style=\"color: #00af00; text-decoration-color: #00af00\">15,677</span> │\n",
              "└─────────────────────────────────┴────────────────────────┴───────────────┘\n",
              "</pre>\n"
            ]
          },
          "metadata": {}
        },
        {
          "output_type": "display_data",
          "data": {
            "text/plain": [
              "\u001b[1m Total params: \u001b[0m\u001b[38;5;34m227,085\u001b[0m (887.05 KB)\n"
            ],
            "text/html": [
              "<pre style=\"white-space:pre;overflow-x:auto;line-height:normal;font-family:Menlo,'DejaVu Sans Mono',consolas,'Courier New',monospace\"><span style=\"font-weight: bold\"> Total params: </span><span style=\"color: #00af00; text-decoration-color: #00af00\">227,085</span> (887.05 KB)\n",
              "</pre>\n"
            ]
          },
          "metadata": {}
        },
        {
          "output_type": "display_data",
          "data": {
            "text/plain": [
              "\u001b[1m Trainable params: \u001b[0m\u001b[38;5;34m227,085\u001b[0m (887.05 KB)\n"
            ],
            "text/html": [
              "<pre style=\"white-space:pre;overflow-x:auto;line-height:normal;font-family:Menlo,'DejaVu Sans Mono',consolas,'Courier New',monospace\"><span style=\"font-weight: bold\"> Trainable params: </span><span style=\"color: #00af00; text-decoration-color: #00af00\">227,085</span> (887.05 KB)\n",
              "</pre>\n"
            ]
          },
          "metadata": {}
        },
        {
          "output_type": "display_data",
          "data": {
            "text/plain": [
              "\u001b[1m Non-trainable params: \u001b[0m\u001b[38;5;34m0\u001b[0m (0.00 B)\n"
            ],
            "text/html": [
              "<pre style=\"white-space:pre;overflow-x:auto;line-height:normal;font-family:Menlo,'DejaVu Sans Mono',consolas,'Courier New',monospace\"><span style=\"font-weight: bold\"> Non-trainable params: </span><span style=\"color: #00af00; text-decoration-color: #00af00\">0</span> (0.00 B)\n",
              "</pre>\n"
            ]
          },
          "metadata": {}
        }
      ]
    },
    {
      "cell_type": "markdown",
      "source": [
        "## Generate text before training"
      ],
      "metadata": {
        "id": "gJ4seAH9plHB"
      }
    },
    {
      "cell_type": "code",
      "source": [
        "generated_before = generate_text(\n",
        "        model, dataset.char_to_idx, dataset.idx_to_char,\n",
        "        max_seq_length, dataset.num_chars, length=200\n",
        ")"
      ],
      "metadata": {
        "colab": {
          "base_uri": "https://localhost:8080/"
        },
        "id": "AUUTftUwpefX",
        "outputId": "119123fb-35c5-46b1-dd33-4c09e0507b9e"
      },
      "execution_count": null,
      "outputs": [
        {
          "output_type": "stream",
          "name": "stdout",
          "text": [
            "the EwwMM x:bmnHAIbtEadtEadtEadtEadtEadtEadtEadtEadtEadtEadtEadtEadtEadtEadtEadtEadtEadtEadtEadtEadtEadtEadtEadtEadtEadtEadtEadtEadtEadtEadtEadtEadtEadtEadtEadtEadtEadtEadtEadtEadtEadtEadtEadtEadtEadtEadt"
          ]
        }
      ]
    },
    {
      "cell_type": "code",
      "source": [
        "model.fit(dataset,epochs=epochs, verbose=1)"
      ],
      "metadata": {
        "colab": {
          "base_uri": "https://localhost:8080/"
        },
        "id": "tSW0G4BmpnzL",
        "outputId": "41fad186-0c44-4d9c-e11a-0154f2708229"
      },
      "execution_count": null,
      "outputs": [
        {
          "output_type": "stream",
          "name": "stdout",
          "text": [
            "Epoch 1/5\n",
            "\u001b[1m390/390\u001b[0m \u001b[32m━━━━━━━━━━━━━━━━━━━━\u001b[0m\u001b[37m\u001b[0m \u001b[1m9s\u001b[0m 18ms/step - accuracy: 0.2645 - loss: 2.7307\n",
            "Epoch 2/5\n",
            "\u001b[1m390/390\u001b[0m \u001b[32m━━━━━━━━━━━━━━━━━━━━\u001b[0m\u001b[37m\u001b[0m \u001b[1m8s\u001b[0m 14ms/step - accuracy: 0.5240 - loss: 1.5956\n",
            "Epoch 3/5\n",
            "\u001b[1m390/390\u001b[0m \u001b[32m━━━━━━━━━━━━━━━━━━━━\u001b[0m\u001b[37m\u001b[0m \u001b[1m6s\u001b[0m 14ms/step - accuracy: 0.6401 - loss: 1.1840\n",
            "Epoch 4/5\n",
            "\u001b[1m390/390\u001b[0m \u001b[32m━━━━━━━━━━━━━━━━━━━━\u001b[0m\u001b[37m\u001b[0m \u001b[1m6s\u001b[0m 14ms/step - accuracy: 0.7429 - loss: 0.8724\n",
            "Epoch 5/5\n",
            "\u001b[1m390/390\u001b[0m \u001b[32m━━━━━━━━━━━━━━━━━━━━\u001b[0m\u001b[37m\u001b[0m \u001b[1m6s\u001b[0m 16ms/step - accuracy: 0.7949 - loss: 0.7204\n"
          ]
        },
        {
          "output_type": "execute_result",
          "data": {
            "text/plain": [
              "<keras.src.callbacks.history.History at 0x7981b450dad0>"
            ]
          },
          "metadata": {},
          "execution_count": 8
        }
      ]
    },
    {
      "cell_type": "markdown",
      "source": [
        "## Generate text after training"
      ],
      "metadata": {
        "id": "knDlWh3Wptu4"
      }
    },
    {
      "cell_type": "code",
      "source": [
        "generated_before = generate_text(\n",
        "        model, dataset.char_to_idx, dataset.idx_to_char,\n",
        "        max_seq_length, dataset.num_chars, length=200\n",
        ")"
      ],
      "metadata": {
        "colab": {
          "base_uri": "https://localhost:8080/"
        },
        "id": "i6-qYAt6pAz1",
        "outputId": "f4f5d748-38c2-470f-a316-5a06818cc3dd"
      },
      "execution_count": null,
      "outputs": [
        {
          "output_type": "stream",
          "name": "stdout",
          "text": [
            "the people and his country:\n",
            "It shall be so.\n",
            "\n",
            "COMINIUS:\n",
            "He's a disease that have belly will be ruled.\n",
            "\n",
            "BRUTUS:\n",
            "Come, come, you are well undersaly were resely\n",
            "If he have put my wisdomance.\n",
            "\n",
            "Second Soldier:\n"
          ]
        }
      ]
    }
  ]
}