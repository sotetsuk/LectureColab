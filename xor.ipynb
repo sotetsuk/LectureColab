{
  "nbformat": 4,
  "nbformat_minor": 0,
  "metadata": {
    "colab": {
      "provenance": [],
      "authorship_tag": "ABX9TyNF+tjPvIjf9oyKVP7LI+7p",
      "include_colab_link": true
    },
    "kernelspec": {
      "name": "python3",
      "display_name": "Python 3"
    },
    "language_info": {
      "name": "python"
    }
  },
  "cells": [
    {
      "cell_type": "markdown",
      "metadata": {
        "id": "view-in-github",
        "colab_type": "text"
      },
      "source": [
        "<a href=\"https://colab.research.google.com/github/sotetsuk/LectureColab/blob/main/xor.ipynb\" target=\"_parent\"><img src=\"https://colab.research.google.com/assets/colab-badge.svg\" alt=\"Open In Colab\"/></a>"
      ]
    },
    {
      "cell_type": "markdown",
      "source": [
        "# 多層パーセプトロンによるXOR"
      ],
      "metadata": {
        "id": "NgRPXamp67KM"
      }
    },
    {
      "cell_type": "code",
      "execution_count": 1,
      "metadata": {
        "id": "4ljq5IYf623-"
      },
      "outputs": [],
      "source": [
        "def perceptron(params, input_):  # input は予約語\n",
        "    x1, x2 = input_\n",
        "    w1, w2, b = params\n",
        "    if x1 * w1 + x2 * w2 + b > 0:\n",
        "        return 1\n",
        "    else:\n",
        "        return 0"
      ]
    },
    {
      "cell_type": "code",
      "source": [
        "inputs = [(0, 0), (0, 1), (1, 0), (1, 1)]"
      ],
      "metadata": {
        "id": "U2Voiwiu68sa"
      },
      "execution_count": 2,
      "outputs": []
    },
    {
      "cell_type": "markdown",
      "source": [
        "## AND"
      ],
      "metadata": {
        "id": "lnGzim7K7AVM"
      }
    },
    {
      "cell_type": "code",
      "source": [
        "params = (1, 1, -1.5)\n",
        "for input_ in inputs:\n",
        "    print(f\"{input_}: {perceptron(params, input_)}\")"
      ],
      "metadata": {
        "colab": {
          "base_uri": "https://localhost:8080/"
        },
        "id": "16gReJck6_pu",
        "outputId": "ceae01c7-daa7-4d50-dc54-b3c537f619e5"
      },
      "execution_count": 3,
      "outputs": [
        {
          "output_type": "stream",
          "name": "stdout",
          "text": [
            "(0, 0): 0\n",
            "(0, 1): 0\n",
            "(1, 0): 0\n",
            "(1, 1): 1\n"
          ]
        }
      ]
    },
    {
      "cell_type": "markdown",
      "source": [
        "## OR"
      ],
      "metadata": {
        "id": "_0gmIOIn7c16"
      }
    },
    {
      "cell_type": "code",
      "source": [
        "params = (1, 1, -0.5)\n",
        "for input_ in inputs:\n",
        "    print(f\"{input_}: {perceptron(params, input_)}\")"
      ],
      "metadata": {
        "colab": {
          "base_uri": "https://localhost:8080/"
        },
        "id": "PxSSUBdI7Fqb",
        "outputId": "a2247d23-715c-487f-894a-8fdb5a2ad967"
      },
      "execution_count": 5,
      "outputs": [
        {
          "output_type": "stream",
          "name": "stdout",
          "text": [
            "(0, 0): 0\n",
            "(0, 1): 1\n",
            "(1, 0): 1\n",
            "(1, 1): 1\n"
          ]
        }
      ]
    },
    {
      "cell_type": "markdown",
      "source": [
        "## NAND"
      ],
      "metadata": {
        "id": "BW_UXY_47HQZ"
      }
    },
    {
      "cell_type": "code",
      "source": [
        "params = (-1, -1, 1.5)\n",
        "for input_ in inputs:\n",
        "    print(f\"{input_}: {perceptron(params, input_)}\")"
      ],
      "metadata": {
        "colab": {
          "base_uri": "https://localhost:8080/"
        },
        "id": "YVg4vLrB7F6m",
        "outputId": "504c702f-eadc-4e17-d550-c6824c8f684d"
      },
      "execution_count": 6,
      "outputs": [
        {
          "output_type": "stream",
          "name": "stdout",
          "text": [
            "(0, 0): 1\n",
            "(0, 1): 1\n",
            "(1, 0): 1\n",
            "(1, 1): 0\n"
          ]
        }
      ]
    },
    {
      "cell_type": "markdown",
      "source": [
        "## XOR\n",
        "\n",
        "XORはパーセプトロン単体では表現できない。3つのパーセプトロンを組み合わせることで表現できる。"
      ],
      "metadata": {
        "id": "r8MWbJeu7POC"
      }
    },
    {
      "cell_type": "code",
      "source": [
        "def xor(input_):\n",
        "    h1 = perceptron((1, 1, -0.5), input_)\n",
        "    h2 = perceptron((-1, -1, 1.5), input_)\n",
        "    return perceptron((1, 1, -1.5), (h1, h2))\n",
        "\n",
        "for input_ in inputs:\n",
        "    print(f\"{input_}: {xor(input_)}\")"
      ],
      "metadata": {
        "colab": {
          "base_uri": "https://localhost:8080/"
        },
        "id": "hPcgejPQ7J1-",
        "outputId": "b6a26ec4-5bfb-4e0b-be72-5e5bc658c535"
      },
      "execution_count": 10,
      "outputs": [
        {
          "output_type": "stream",
          "name": "stdout",
          "text": [
            "(0, 0): 0\n",
            "(0, 1): 1\n",
            "(1, 0): 1\n",
            "(1, 1): 0\n"
          ]
        }
      ]
    }
  ]
}