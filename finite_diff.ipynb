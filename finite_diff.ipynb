{
  "nbformat": 4,
  "nbformat_minor": 0,
  "metadata": {
    "colab": {
      "provenance": [],
      "authorship_tag": "ABX9TyN2+QFQJU2wKfRGDLdQ1g5G",
      "include_colab_link": true
    },
    "kernelspec": {
      "name": "python3",
      "display_name": "Python 3"
    },
    "language_info": {
      "name": "python"
    }
  },
  "cells": [
    {
      "cell_type": "markdown",
      "metadata": {
        "id": "view-in-github",
        "colab_type": "text"
      },
      "source": [
        "<a href=\"https://colab.research.google.com/github/sotetsuk/LectureColab/blob/main/finite_diff.ipynb\" target=\"_parent\"><img src=\"https://colab.research.google.com/assets/colab-badge.svg\" alt=\"Open In Colab\"/></a>"
      ]
    },
    {
      "cell_type": "code",
      "execution_count": 3,
      "metadata": {
        "colab": {
          "base_uri": "https://localhost:8080/"
        },
        "id": "LIzcT8Z4c4lq",
        "outputId": "9f78b77c-2920-42a5-e42f-011dde37aa95"
      },
      "outputs": [
        {
          "output_type": "stream",
          "name": "stdout",
          "text": [
            "approx dL/dw1 = -0.009935278398945369\n"
          ]
        }
      ],
      "source": [
        "import numpy as np\n",
        "\n",
        "w1, b1, w2, b2, w3, b3, t = 0.5, 0.1, 0.6, 0.2, 0.7, 0.3, 0.9\n",
        "epsilon = 1e-5\n",
        "\n",
        "def loss(w1_val, x=2.0):\n",
        "    z1 = w1_val * x + b1\n",
        "    a1 = 1 / (1 + np.exp(-z1))\n",
        "    z2 = w2 * a1 + b2\n",
        "    a2 = 1 / (1 + np.exp(-z2))\n",
        "    y = w3 * a2 + b3\n",
        "    return (y - t) ** 2\n",
        "\n",
        "# 有限差分による w1 に関する勾配近似\n",
        "grad_w1 = (loss(w1 + epsilon) - loss(w1 - epsilon)) / (2 * epsilon)  # -0.009935278398945369\n",
        "print(\"approx dL/dw1 =\", grad_w1)"
      ]
    }
  ]
}