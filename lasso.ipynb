{
  "nbformat": 4,
  "nbformat_minor": 0,
  "metadata": {
    "colab": {
      "provenance": [],
      "authorship_tag": "ABX9TyPGRD8u7R4AxVfLop/dSmXj",
      "include_colab_link": true
    },
    "kernelspec": {
      "name": "python3",
      "display_name": "Python 3"
    },
    "language_info": {
      "name": "python"
    }
  },
  "cells": [
    {
      "cell_type": "markdown",
      "metadata": {
        "id": "view-in-github",
        "colab_type": "text"
      },
      "source": [
        "<a href=\"https://colab.research.google.com/github/sotetsuk/LectureColab/blob/main/lasso.ipynb\" target=\"_parent\"><img src=\"https://colab.research.google.com/assets/colab-badge.svg\" alt=\"Open In Colab\"/></a>"
      ]
    },
    {
      "cell_type": "code",
      "source": [
        "import numpy as np\n",
        "import matplotlib.pyplot as plt\n",
        "from sklearn.linear_model import Lasso\n",
        "from sklearn.datasets import make_regression\n",
        "from sklearn.metrics import mean_squared_error"
      ],
      "metadata": {
        "id": "0Deh8tR6KncR"
      },
      "execution_count": 1,
      "outputs": []
    },
    {
      "cell_type": "markdown",
      "source": [
        "## Lassoの実装"
      ],
      "metadata": {
        "id": "hYjAu905La8J"
      }
    },
    {
      "cell_type": "code",
      "source": [
        "def soft_thresholding(x, lambda_):\n",
        "    if x > lambda_:\n",
        "        return x - lambda_\n",
        "    elif x < -lambda_:\n",
        "        return x + lambda_\n",
        "    else:\n",
        "        return 0\n",
        "\n",
        "\n",
        "def lasso_regression(X, y, alpha=1.0, max_iter=1000, tol=1e-4):\n",
        "    n_samples, n_features = X.shape\n",
        "\n",
        "    # データの標準化\n",
        "    X_mean = np.mean(X, axis=0)\n",
        "    X_std = np.std(X, axis=0)\n",
        "    X_std[X_std == 0] = 1  # ゼロ除算回避\n",
        "    y_mean = np.mean(y)\n",
        "    X = (X - X_mean) / X_std\n",
        "    y = y - y_mean\n",
        "\n",
        "    # 座標降下法（CD）による推定\n",
        "    w = np.zeros(n_features)  # 初期化\n",
        "    for _ in range(max_iter):\n",
        "        coef_old = np.copy(coef)\n",
        "        for j in range(n_features):\n",
        "            r_j = y - X @ w + X[:, j] * w[j]  # 残差計算\n",
        "            rho = X[:, j].T @ r_j\n",
        "            w[j] = soft_thresholding(rho, alpha) / X[:, j].T @ X[:, j]\n",
        "        if np.linalg.norm(w - coef_old) < tol:  # 収束判定\n",
        "            break\n",
        "\n",
        "    # 元のスケールに戻す\n",
        "    w = w / X_std\n",
        "    intercept = y_mean - X_mean.dot(w)\n",
        "    return coef, intercept"
      ],
      "metadata": {
        "id": "GIc_Y4skKlMC"
      },
      "execution_count": 2,
      "outputs": []
    },
    {
      "cell_type": "markdown",
      "source": [
        "## データの用意"
      ],
      "metadata": {
        "id": "B1UYOgCfLhfq"
      }
    },
    {
      "cell_type": "code",
      "source": [
        "# ランダムデータの生成\n",
        "np.random.seed(42)\n",
        "X, y, coef = make_regression(n_samples=100, n_features=20, n_informative=5,\n",
        "                           noise=0.5, coef=True, random_state=42)"
      ],
      "metadata": {
        "id": "XPRMAwpzLgcM"
      },
      "execution_count": 3,
      "outputs": []
    },
    {
      "cell_type": "markdown",
      "source": [
        "## scikit-learnでの実行結果"
      ],
      "metadata": {
        "id": "9c1dKQTYLkT4"
      }
    },
    {
      "cell_type": "code",
      "source": [
        "# scikit-learnのLasso実行\n",
        "alpha = 0.1\n",
        "max_iter = 1000\n",
        "lasso = Lasso(alpha=alpha, max_iter=max_iter, tol=1e-4, random_state=42)\n",
        "lasso.fit(X, y)\n",
        "\n",
        "# 予測と評価\n",
        "y_pred_sklearn = lasso.predict(X)\n",
        "mse_sklearn = mean_squared_error(y, y_pred_sklearn)\n",
        "\n",
        "print(\"Scikit-learn Lasso結果:\")\n",
        "print(\"係数:\", lasso.coef_)\n",
        "print(\"切片:\", lasso.intercept_)\n",
        "print(\"MSE:\", mse_sklearn)"
      ],
      "metadata": {
        "colab": {
          "base_uri": "https://localhost:8080/"
        },
        "id": "90BnnmGDFkkx",
        "outputId": "740d48cc-f4ef-4eb3-e198-c0e274cb4b36"
      },
      "execution_count": 4,
      "outputs": [
        {
          "output_type": "stream",
          "name": "stdout",
          "text": [
            "Scikit-learn Lasso結果:\n",
            "係数: [ 6.48848955e+00 -0.00000000e+00  4.04928559e+01 -0.00000000e+00\n",
            " -0.00000000e+00  0.00000000e+00  1.09508022e+01 -0.00000000e+00\n",
            "  8.06431065e+01  3.49000274e+01 -0.00000000e+00  0.00000000e+00\n",
            " -0.00000000e+00 -0.00000000e+00  0.00000000e+00 -0.00000000e+00\n",
            " -0.00000000e+00 -0.00000000e+00  3.18336530e-02 -0.00000000e+00]\n",
            "切片: 0.04176868744100659\n",
            "MSE: 0.25839999112094664\n"
          ]
        }
      ]
    },
    {
      "cell_type": "markdown",
      "source": [
        "## 上記実装での実行結果"
      ],
      "metadata": {
        "id": "p50D3hu0Lmvm"
      }
    },
    {
      "cell_type": "code",
      "source": [
        "coef_my, intercept_my = lasso_regression(X, y, alpha=alpha, max_iter=max_iter, tol=1e-4)\n",
        "\n",
        "# 予測関数\n",
        "def predict(X, coef, intercept):\n",
        "    return X.dot(coef) + intercept\n",
        "\n",
        "# 予測と評価\n",
        "y_pred_my = predict(X, coef_my, intercept_my)\n",
        "mse_my = mean_squared_error(y, y_pred_my)\n",
        "\n",
        "print(\"\\n関数形式Lasso結果:\")\n",
        "print(\"係数:\", coef_my)\n",
        "print(\"切片:\", intercept_my)\n",
        "print(\"MSE:\", mse_my)"
      ],
      "metadata": {
        "colab": {
          "base_uri": "https://localhost:8080/"
        },
        "id": "N0afuQwDG4BE",
        "outputId": "6b7cb76e-5de9-46f7-e65f-8fe159be8e9f"
      },
      "execution_count": 5,
      "outputs": [
        {
          "output_type": "stream",
          "name": "stderr",
          "text": [
            "<ipython-input-2-e9fc7d16f774>:29: RuntimeWarning: overflow encountered in divide\n",
            "  w[j] = soft_thresholding(rho, alpha) / X[:, j].T @ X[:, j]\n",
            "<ipython-input-2-e9fc7d16f774>:28: RuntimeWarning: invalid value encountered in matmul\n",
            "  rho = X[:, j].T @ r_j\n",
            "<ipython-input-2-e9fc7d16f774>:27: RuntimeWarning: invalid value encountered in add\n",
            "  r_j = y - X @ w + X[:, j] * w[j]  # 残差計算\n",
            "<ipython-input-2-e9fc7d16f774>:28: RuntimeWarning: overflow encountered in matmul\n",
            "  rho = X[:, j].T @ r_j\n",
            "<ipython-input-2-e9fc7d16f774>:29: RuntimeWarning: overflow encountered in matmul\n",
            "  w[j] = soft_thresholding(rho, alpha) / X[:, j].T @ X[:, j]\n"
          ]
        },
        {
          "output_type": "stream",
          "name": "stdout",
          "text": [
            "\n",
            "関数形式Lasso結果:\n",
            "係数: [ 6.60098441  0.         40.71064891  0.          0.          0.\n",
            " 11.09980988  0.         80.823521   34.8820534   0.          0.\n",
            "  0.          0.          0.          0.          0.          0.\n",
            "  0.          0.        ]\n",
            "切片: 1.0595406850030155e+185\n",
            "MSE: inf\n"
          ]
        },
        {
          "output_type": "stream",
          "name": "stderr",
          "text": [
            "/usr/local/lib/python3.11/dist-packages/sklearn/metrics/_regression.py:570: RuntimeWarning: overflow encountered in square\n",
            "  output_errors = _average((y_true - y_pred) ** 2, axis=0, weights=sample_weight)\n"
          ]
        }
      ]
    },
    {
      "cell_type": "markdown",
      "source": [
        "## 結果の比較"
      ],
      "metadata": {
        "id": "buzsgicFLpBu"
      }
    },
    {
      "cell_type": "code",
      "source": [
        "# 結果の比較\n",
        "print(\"\\n実装の差異:\")\n",
        "print(\"係数の差のノルム:\", np.linalg.norm(lasso.coef_ - coef_my))\n",
        "print(\"切片の差:\", abs(lasso.intercept_ - intercept_my))\n",
        "print(\"MSEの差:\", abs(mse_sklearn - mse_my))\n",
        "\n",
        "\n",
        "# 係数の比較\n",
        "plt.figure(figsize=(12, 6))\n",
        "plt.bar(np.arange(len(lasso.coef_)) - 0.2, lasso.coef_, width=0.4, label='Scikit-learn Lasso')\n",
        "plt.bar(np.arange(len(coef_my)) + 0.2, coef_my, width=0.4, label='My Lasso')\n",
        "plt.xlabel('Feature index')\n",
        "plt.ylabel('Estimated weight')\n",
        "plt.title('Lasso coef')\n",
        "plt.legend()\n",
        "plt.grid(True)\n",
        "plt.show()"
      ],
      "metadata": {
        "colab": {
          "base_uri": "https://localhost:8080/",
          "height": 651
        },
        "id": "GPT9o4-eLE-I",
        "outputId": "e40ee6d3-0669-4c4d-d94b-24bd19f8869b"
      },
      "execution_count": 6,
      "outputs": [
        {
          "output_type": "stream",
          "name": "stdout",
          "text": [
            "\n",
            "実装の差異:\n",
            "係数の差のノルム: 0.3408489600899517\n",
            "切片の差: 1.0595406850030155e+185\n",
            "MSEの差: inf\n"
          ]
        },
        {
          "output_type": "display_data",
          "data": {
            "text/plain": [
              "<Figure size 1200x600 with 1 Axes>"
            ],
            "image/png": "[encoded data removed]"
          },
          "metadata": {}
        }
      ]
    },
    {
      "cell_type": "code",
      "source": [],
      "metadata": {
        "id": "mfQs9ZpSOwI7"
      },
      "execution_count": 6,
      "outputs": []
    }
  ]
}