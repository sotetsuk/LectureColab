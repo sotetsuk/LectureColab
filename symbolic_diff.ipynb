{
  "nbformat": 4,
  "nbformat_minor": 0,
  "metadata": {
    "colab": {
      "provenance": [],
      "authorship_tag": "ABX9TyNSqA77m6ka1DLD7Ps2x3kG",
      "include_colab_link": true
    },
    "kernelspec": {
      "name": "python3",
      "display_name": "Python 3"
    },
    "language_info": {
      "name": "python"
    }
  },
  "cells": [
    {
      "cell_type": "markdown",
      "metadata": {
        "id": "view-in-github",
        "colab_type": "text"
      },
      "source": [
        "<a href=\"https://colab.research.google.com/github/sotetsuk/LectureColab/blob/main/symbolic_diff.ipynb\" target=\"_parent\"><img src=\"https://colab.research.google.com/assets/colab-badge.svg\" alt=\"Open In Colab\"/></a>"
      ]
    },
    {
      "cell_type": "code",
      "source": [
        "import sympy as sp\n",
        "\n",
        "x, w1, b1, w2, b2, w3, b3, t = sp.symbols('x w1 b1 w2 b2 w3 b3 t')  # シンボル定義\n",
        "sigmoid = lambda z: 1 / (1 + sp.exp(-z))  # シグモイド関数\n",
        "\n",
        "# 隠れ層が2つのネットワーク\n",
        "z1 = w1 * x + b1\n",
        "a1 = sigmoid(z1)\n",
        "z2 = w2 * a1 + b2\n",
        "a2 = sigmoid(z2)\n",
        "y = w3 * a2 + b3\n",
        "\n",
        "L = (y - t)**2  # MSE損失\n",
        "dL_dw1 = sp.diff(L, w1)  # 損失 L を w1 で微分\n",
        "\n",
        "print(\"dL/dw1 =\", dL_dw1)\n",
        "print(\"式の長さ =\", len(str(dL_dw1)))  # = 189"
      ],
      "metadata": {
        "colab": {
          "base_uri": "https://localhost:8080/"
        },
        "id": "QpPHosloTtri",
        "outputId": "e9bb31bc-22c0-4f6e-cc34-8d499e22ec09"
      },
      "execution_count": 1,
      "outputs": [
        {
          "output_type": "stream",
          "name": "stdout",
          "text": [
            "dL/dw1 = 2*w2*w3*x*(b3 - t + w3/(exp(-b2 - w2/(exp(-b1 - w1*x) + 1)) + 1))*exp(-b1 - w1*x)*exp(-b2 - w2/(exp(-b1 - w1*x) + 1))/((exp(-b1 - w1*x) + 1)**2*(exp(-b2 - w2/(exp(-b1 - w1*x) + 1)) + 1)**2)\n",
            "式の長さ = 189\n"
          ]
        }
      ]
    },
    {
      "cell_type": "code",
      "source": [
        "from sympy.printing import latex\n",
        "print(latex(dL_dw1))"
      ],
      "metadata": {
        "colab": {
          "base_uri": "https://localhost:8080/"
        },
        "id": "JY2MgbWpUTWB",
        "outputId": "e5faea3c-80c1-4c75-918f-07d564814cae"
      },
      "execution_count": 2,
      "outputs": [
        {
          "output_type": "stream",
          "name": "stdout",
          "text": [
            "\\frac{2 w_{2} w_{3} x \\left(b_{3} - t + \\frac{w_{3}}{e^{- b_{2} - \\frac{w_{2}}{e^{- b_{1} - w_{1} x} + 1}} + 1}\\right) e^{- b_{1} - w_{1} x} e^{- b_{2} - \\frac{w_{2}}{e^{- b_{1} - w_{1} x} + 1}}}{\\left(e^{- b_{1} - w_{1} x} + 1\\right)^{2} \\left(e^{- b_{2} - \\frac{w_{2}}{e^{- b_{1} - w_{1} x} + 1}} + 1\\right)^{2}}\n"
          ]
        }
      ]
    },
    {
      "cell_type": "markdown",
      "source": [
        "$$\n",
        "\\frac{2 w_{2} w_{3} x \\left(b_{3} - t + \\frac{w_{3}}{e^{- b_{2} - \\frac{w_{2}}{e^{- b_{1} - w_{1} x} + 1}} + 1}\\right) e^{- b_{1} - w_{1} x} e^{- b_{2} - \\frac{w_{2}}{e^{- b_{1} - w_{1} x} + 1}}}{\\left(e^{- b_{1} - w_{1} x} + 1\\right)^{2} \\left(e^{- b_{2} - \\frac{w_{2}}{e^{- b_{1} - w_{1} x} + 1}} + 1\\right)^{2}}\n",
        "$$"
      ],
      "metadata": {
        "id": "9Ow4zUXDaXJp"
      }
    }
  ]
}